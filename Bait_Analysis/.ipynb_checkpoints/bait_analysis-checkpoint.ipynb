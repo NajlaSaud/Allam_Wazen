{
 "cells": [
  {
   "cell_type": "code",
   "execution_count": 1,
   "id": "4555a563",
   "metadata": {},
   "outputs": [],
   "source": [
    "poem: {'Baits': {'1': {'shatr_1': 'الناسُ للناسِ مادامَ الوفاءُ بهم',\n",
    "   'shatr_2': 'والعسرُ واليسرُ أوقاتٌ وساعاتُ'},\n",
    "  '2': {'shatr_1': 'وأكرَمُ الناسِ ما بَين الوَرَى رَجلٌ',\n",
    "   'shatr_2': 'تُقْضى على يَدِه للنَّاسِ حاجاتُ'},\n",
    "  '3': {'shatr_1': 'لا تَقْطَعَنَّ يَدَ المَعروفِ عَنْ أَحَدٍ',\n",
    "   'shatr_2': 'ما دُمْتَ تَقْدِرُ فالأيامُ تَارَاتُ'},\n",
    "  '4': {'shatr_1': 'واشْكُرْ فَضِيلةَ صُنْعِ اللهِ إِذْ جَعَلَتْ',\n",
    "   'shatr_2': 'إِلَيْكَ لا لَكَ عِنْد الناسِ حَاجَاتُ'},\n",
    "  '5': {'shatr_1': 'قد مات قومٌ و ما ماتت فَضائلُهُم',\n",
    "   'shatr_2': 'وعاشَ قَومٌ وهُم في الناسِ أمْواتُ'}}}"
   ]
  },
  {
   "cell_type": "code",
   "execution_count": 2,
   "id": "61c7c7af",
   "metadata": {},
   "outputs": [],
   "source": [
    "empty_analysis = {\n",
    "    \"diacritized\": [],\n",
    "    \"arudi_style\": [],\n",
    "    \"patterns_mismatches\": [],\n",
    "    \"qafiyah\": [],\n",
    "    \"meter\": \"\",\n",
    "}"
   ]
  },
  {
   "cell_type": "code",
   "execution_count": 3,
   "id": "44d2d698",
   "metadata": {},
   "outputs": [],
   "source": [
    "import sys\n",
    "sys.path.append('/Bohour')"
   ]
  },
  {
   "cell_type": "code",
   "execution_count": 5,
   "id": "b6f8db23",
   "metadata": {},
   "outputs": [
    {
     "ename": "ModuleNotFoundError",
     "evalue": "No module named 'diacritization_evaluation'",
     "output_type": "error",
     "traceback": [
      "\u001b[1;31m---------------------------------------------------------------------------\u001b[0m",
      "\u001b[1;31mModuleNotFoundError\u001b[0m                       Traceback (most recent call last)",
      "Cell \u001b[1;32mIn[5], line 1\u001b[0m\n\u001b[1;32m----> 1\u001b[0m \u001b[38;5;28;01mfrom\u001b[39;00m \u001b[38;5;21;01mutils\u001b[39;00m \u001b[38;5;28;01mimport\u001b[39;00m (\n\u001b[0;32m      2\u001b[0m     BOHOUR_NAMES,\n\u001b[0;32m      3\u001b[0m     find_mismatch,\n\u001b[0;32m      4\u001b[0m     label2name,\n\u001b[0;32m      5\u001b[0m     char2idx,\n\u001b[0;32m      6\u001b[0m     override_auto_tashkeel,\n\u001b[0;32m      7\u001b[0m     vocab,\n\u001b[0;32m      8\u001b[0m     BOHOUR_NAMES_AR,\n\u001b[0;32m      9\u001b[0m )\n",
      "File \u001b[1;32m~\\Desktop\\Codes\\Wazen\\Bait_Analysis\\utils.py:2\u001b[0m\n\u001b[0;32m      1\u001b[0m \u001b[38;5;66;03m# This code was written by (Copyright (c) 2022 Maged Saeed) under MIT License\u001b[39;00m\n\u001b[1;32m----> 2\u001b[0m \u001b[38;5;28;01mfrom\u001b[39;00m \u001b[38;5;21;01mdiacritization_evaluation\u001b[39;00m\u001b[38;5;21;01m.\u001b[39;00m\u001b[38;5;21;01mutil\u001b[39;00m \u001b[38;5;28;01mimport\u001b[39;00m extract_haraqat, combine_txt_and_haraqat\n\u001b[0;32m      3\u001b[0m \u001b[38;5;28;01mimport\u001b[39;00m \u001b[38;5;21;01mdifflib\u001b[39;00m\n\u001b[0;32m      4\u001b[0m \u001b[38;5;28;01mfrom\u001b[39;00m \u001b[38;5;21;01mtermcolor\u001b[39;00m \u001b[38;5;28;01mimport\u001b[39;00m colored\n",
      "\u001b[1;31mModuleNotFoundError\u001b[0m: No module named 'diacritization_evaluation'"
     ]
    }
   ],
   "source": [
    "from utils import (\n",
    "    BOHOUR_NAMES,\n",
    "    find_mismatch,\n",
    "    label2name,\n",
    "    char2idx,\n",
    "    override_auto_tashkeel,\n",
    "    vocab,\n",
    "    BOHOUR_NAMES_AR,\n",
    ")"
   ]
  },
  {
   "cell_type": "code",
   "execution_count": null,
   "id": "703bbd42",
   "metadata": {},
   "outputs": [],
   "source": []
  }
 ],
 "metadata": {
  "kernelspec": {
   "display_name": "Python 3 (ipykernel)",
   "language": "python",
   "name": "python3"
  },
  "language_info": {
   "codemirror_mode": {
    "name": "ipython",
    "version": 3
   },
   "file_extension": ".py",
   "mimetype": "text/x-python",
   "name": "python",
   "nbconvert_exporter": "python",
   "pygments_lexer": "ipython3",
   "version": "3.9.12"
  }
 },
 "nbformat": 4,
 "nbformat_minor": 5
}
